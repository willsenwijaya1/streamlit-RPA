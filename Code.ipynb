{
 "cells": [
  {
   "cell_type": "code",
   "execution_count": 8,
   "metadata": {
    "scrolled": true
   },
   "outputs": [],
   "source": [
    "import pandas as pd\n",
    "\n",
    "df = pd.read_excel('data.xlsx')"
   ]
  },
  {
   "cell_type": "code",
   "execution_count": 9,
   "metadata": {},
   "outputs": [],
   "source": [
    "# kata kunci kategori aplikasi operasional\n",
    "dessie_keywords = [\"UCR\", \"OSS\", \"BSB SMG\", \"MJP\", \"APNB\", \"Socmed APNB\", \"Development Support\"]\n",
    "dede_keywords = [\"Sosmed Foresta\", \"Sosmed BSB\", \"Sosmed SMG\", \"BSD Reguler\", \"BCA Express\", \"SnB\", \"MO\", \n",
    "                  \"Teknis\", \"UKP\", \"Tim Bisnis\"]\n",
    "dede_other_keywords = [\"Video Call\", \"DRO\", \"SOLA\", \"Pemol\", \"VBK\", \"QA\"]"
   ]
  },
  {
   "cell_type": "code",
   "execution_count": 10,
   "metadata": {},
   "outputs": [],
   "source": [
    "# Menambahkan kolom 'Nama' dan mengisinya berdasarkan pencocokan keyword\n",
    "def assign_name(app):\n",
    "    if any(keyword in app for keyword in dessie_keywords):\n",
    "        return \"dessie\"\n",
    "    elif any(keyword in app for keyword in dede_keywords):\n",
    "        return \"dede\"\n",
    "    elif any(keyword in app for keyword in dede_other_keywords):\n",
    "        return \"dede\"\n",
    "    return None\n",
    "\n",
    "df[\"Nama\"] = df[\"Aplikasi Operasional\"].apply(assign_name)"
   ]
  },
  {
   "cell_type": "code",
   "execution_count": 11,
   "metadata": {},
   "outputs": [
    {
     "name": "stdout",
     "output_type": "stream",
     "text": [
      "Proses selesai. File telah disimpan sebagai result.xlsx\n"
     ]
    }
   ],
   "source": [
    "output_file = \"result.xlsx\"\n",
    "df.to_excel(output_file, index=False)\n",
    "\n",
    "print(\"Proses selesai. File telah disimpan sebagai\", output_file)\n"
   ]
  },
  {
   "cell_type": "code",
   "execution_count": null,
   "metadata": {},
   "outputs": [],
   "source": []
  }
 ],
 "metadata": {
  "kernelspec": {
   "display_name": "Python 3 (ipykernel)",
   "language": "python",
   "name": "python3"
  },
  "language_info": {
   "codemirror_mode": {
    "name": "ipython",
    "version": 3
   },
   "file_extension": ".py",
   "mimetype": "text/x-python",
   "name": "python",
   "nbconvert_exporter": "python",
   "pygments_lexer": "ipython3",
   "version": "3.8.19"
  }
 },
 "nbformat": 4,
 "nbformat_minor": 2
}
